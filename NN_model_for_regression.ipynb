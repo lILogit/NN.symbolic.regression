{
  "nbformat": 4,
  "nbformat_minor": 0,
  "metadata": {
    "colab": {
      "provenance": []
    },
    "kernelspec": {
      "name": "python3",
      "display_name": "Python 3"
    },
    "language_info": {
      "name": "python"
    }
  },
  "cells": [
    {
      "cell_type": "code",
      "source": [
        "!pip3 install -U pysr==0.18.2 pytorch_lightning"
      ],
      "metadata": {
        "id": "il0tY8d8frQh"
      },
      "execution_count": null,
      "outputs": []
    },
    {
      "cell_type": "code",
      "source": [
        "import sympy\n",
        "import numpy as np\n",
        "from matplotlib import pyplot as plt\n",
        "#from pysr import PySRRegressor\n",
        "import torch\n",
        "from torch import nn, optim\n",
        "from torch.nn import functional as F\n",
        "from torch.utils.data import DataLoader, TensorDataset\n",
        "import pytorch_lightning as pl\n",
        "from sklearn.model_selection import train_test_split"
      ],
      "metadata": {
        "id": "EfG6W6zn72Mm"
      },
      "execution_count": null,
      "outputs": []
    },
    {
      "cell_type": "code",
      "source": [
        "###### np.random.seed(0)\n",
        "N = 100000\n",
        "Nt = 10\n",
        "X = 6 * np.random.rand(N, Nt, 5) - 3\n",
        "y_i = X[..., 0] ** 2 + 6 * np.cos(2 * X[..., 2])\n",
        "y = np.sum(y_i, axis=1) / y_i.shape[1]\n",
        "z = y**2\n",
        "X.shape, y.shape"
      ],
      "metadata": {
        "id": "sEHgJUgo8LTy"
      },
      "execution_count": null,
      "outputs": []
    },
    {
      "cell_type": "code",
      "execution_count": null,
      "metadata": {
        "id": "9JiqNiaDelai"
      },
      "outputs": [],
      "source": [
        "hidden = 100\n",
        "\n",
        "max_epochs = 20\n",
        "Xt = torch.tensor(X).float()\n",
        "zt = torch.tensor(z).float()\n",
        "hidden = 128\n",
        "total_steps = 50000\n",
        "\n",
        "\n",
        "def mlp(size_in, size_out, act=nn.ReLU):\n",
        "    return nn.Sequential(\n",
        "        nn.Linear(size_in, hidden),\n",
        "        act(),\n",
        "        nn.Linear(hidden, hidden),\n",
        "        act(),\n",
        "        nn.Linear(hidden, hidden),\n",
        "        act(),\n",
        "        nn.Linear(hidden, size_out),\n",
        "    )\n",
        "\n",
        "class SumNet(pl.LightningModule):\n",
        "    def __init__(self):\n",
        "        super().__init__()\n",
        "        X_train, X_test, z_train, z_test = train_test_split(Xt, zt, random_state=0)\n",
        "        self.train_set = TensorDataset(X_train, z_train)\n",
        "        self.test_set = TensorDataset(X_test, z_test)\n",
        "\n",
        "        # The same inductive bias as above!\n",
        "        self.g = mlp(5, 1)\n",
        "        self.f = mlp(1, 1)\n",
        "\n",
        "    def forward(self, x):\n",
        "        y_i = self.g(x)[:, :, 0]\n",
        "        y = torch.sum(y_i, dim=1, keepdim=True) / y_i.shape[1]\n",
        "        z = self.f(y)\n",
        "        return z[:, 0]\n",
        "\n",
        "    ########################################################\n",
        "\n",
        "    # PyTorch Lightning bookkeeping:\n",
        "    def training_step(self, batch, batch_idx):\n",
        "        x, z = batch\n",
        "        predicted_z = self(x)\n",
        "        loss = F.mse_loss(predicted_z, z)\n",
        "        return loss\n",
        "\n",
        "    def validation_step(self, batch, batch_idx):\n",
        "        return self.training_step(batch, batch_idx)\n",
        "\n",
        "    def configure_optimizers(self):\n",
        "        optimizer = torch.optim.Adam(self.parameters(), lr=1e-2)\n",
        "        scheduler = {'scheduler': torch.optim.lr_scheduler.OneCycleLR(optimizer, max_lr=1e-2,\n",
        "                                                                      steps_per_epoch=len(self.train_dataloader()),\n",
        "                                                                      epochs=max_epochs,\n",
        "                                                                      final_div_factor=1e4),\n",
        "                     'interval': 'step'}\n",
        "        return [optimizer], [scheduler]\n",
        "\n",
        "    def train_dataloader(self):\n",
        "        return DataLoader(self.train_set, batch_size=128, num_workers=4)\n",
        "\n",
        "    def test_dataloader(self):\n",
        "        return DataLoader(self.test_set, batch_size=256, num_workers=4)\n",
        "\n",
        "\n",
        "pl.seed_everything(0)\n",
        "model = SumNet()\n",
        "trainer = pl.Trainer(max_epochs=max_epochs)\n",
        "trainer.fit(model)"
      ]
    },
    {
      "cell_type": "code",
      "source": [
        "from google.colab import files, drive\n",
        "trainer.save_checkpoint(\"example.ckpt\")\n",
        "files.download(\"example.ckpt\")"
      ],
      "metadata": {
        "colab": {
          "base_uri": "https://localhost:8080/",
          "height": 17
        },
        "id": "cSq_IxkkA4YB",
        "outputId": "a6dd4f0d-41e1-4e56-c990-36da65128a42"
      },
      "execution_count": null,
      "outputs": [
        {
          "output_type": "display_data",
          "data": {
            "text/plain": [
              "<IPython.core.display.Javascript object>"
            ],
            "application/javascript": [
              "\n",
              "    async function download(id, filename, size) {\n",
              "      if (!google.colab.kernel.accessAllowed) {\n",
              "        return;\n",
              "      }\n",
              "      const div = document.createElement('div');\n",
              "      const label = document.createElement('label');\n",
              "      label.textContent = `Downloading \"${filename}\": `;\n",
              "      div.appendChild(label);\n",
              "      const progress = document.createElement('progress');\n",
              "      progress.max = size;\n",
              "      div.appendChild(progress);\n",
              "      document.body.appendChild(div);\n",
              "\n",
              "      const buffers = [];\n",
              "      let downloaded = 0;\n",
              "\n",
              "      const channel = await google.colab.kernel.comms.open(id);\n",
              "      // Send a message to notify the kernel that we're ready.\n",
              "      channel.send({})\n",
              "\n",
              "      for await (const message of channel.messages) {\n",
              "        // Send a message to notify the kernel that we're ready.\n",
              "        channel.send({})\n",
              "        if (message.buffers) {\n",
              "          for (const buffer of message.buffers) {\n",
              "            buffers.push(buffer);\n",
              "            downloaded += buffer.byteLength;\n",
              "            progress.value = downloaded;\n",
              "          }\n",
              "        }\n",
              "      }\n",
              "      const blob = new Blob(buffers, {type: 'application/binary'});\n",
              "      const a = document.createElement('a');\n",
              "      a.href = window.URL.createObjectURL(blob);\n",
              "      a.download = filename;\n",
              "      div.appendChild(a);\n",
              "      a.click();\n",
              "      div.remove();\n",
              "    }\n",
              "  "
            ]
          },
          "metadata": {}
        },
        {
          "output_type": "display_data",
          "data": {
            "text/plain": [
              "<IPython.core.display.Javascript object>"
            ],
            "application/javascript": [
              "download(\"download_63e14933-4442-425b-a6de-7c9d2efe450d\", \"example.ckpt\", 829011)"
            ]
          },
          "metadata": {}
        }
      ]
    },
    {
      "cell_type": "markdown",
      "source": [
        "Save and upload model\n",
        "\n",
        "model = MyLightningModule(hparams)\n",
        "\n",
        "trainer.fit(model)\n",
        "\n",
        "trainer.save_checkpoint(\"example.ckpt\")\n",
        "\n",
        "new_model = MyModel.load_from_checkpoint(checkpoint_path=\"example.ckpt\")"
      ],
      "metadata": {
        "id": "W18BEOFDAmZp"
      }
    }
  ]
}
