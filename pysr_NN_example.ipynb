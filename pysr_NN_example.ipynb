{
  "nbformat": 4,
  "nbformat_minor": 0,
  "metadata": {
    "colab": {
      "provenance": []
    },
    "kernelspec": {
      "name": "python3",
      "display_name": "Python 3"
    },
    "language_info": {
      "name": "python"
    }
  },
  "cells": [
    {
      "cell_type": "code",
      "source": [
        "%%shell\n",
        "set -e\n",
        "\n",
        "#---------------------------------------------------#\n",
        "JULIA_VERSION=\"1.7.1\"\n",
        "JULIA_PACKAGES=\"SymbolicRegression\"\n",
        "JULIA_NUM_THREADS=4\n",
        "#---------------------------------------------------#\n",
        "\n",
        "if [ -z `which julia` ]; then\n",
        "  # Install Julia\n",
        "  JULIA_VER=`cut -d '.' -f -2 <<< \"$JULIA_VERSION\"`\n",
        "  echo \"Installing Julia $JULIA_VERSION on the current Colab Runtime...\"\n",
        "  BASE_URL=\"https://julialang-s3.julialang.org/bin/linux/x64\"\n",
        "  URL=\"$BASE_URL/$JULIA_VER/julia-$JULIA_VERSION-linux-x86_64.tar.gz\"\n",
        "  wget -nv $URL -O /tmp/julia.tar.gz # -nv means \"not verbose\"\n",
        "  tar -x -f /tmp/julia.tar.gz -C /usr/local --strip-components 1\n",
        "  rm /tmp/julia.tar.gz\n",
        "\n",
        "  for PKG in `echo $JULIA_PACKAGES`; do\n",
        "    echo \"Installing Julia package $PKG...\"\n",
        "    julia -e 'using Pkg; pkg\"add '$PKG'; precompile;\"'\n",
        "  done\n",
        "\n",
        "fi"
      ],
      "metadata": {
        "colab": {
          "base_uri": "https://localhost:8080/"
        },
        "id": "3flFzokqf3Ps",
        "outputId": "57e554d9-8441-4bb2-c97b-ddba4fb6b458"
      },
      "execution_count": 3,
      "outputs": [
        {
          "output_type": "execute_result",
          "data": {
            "text/plain": []
          },
          "metadata": {},
          "execution_count": 3
        }
      ]
    },
    {
      "cell_type": "code",
      "source": [
        "!pip3 install -U pysr==0.18.2 pytorch_lightning"
      ],
      "metadata": {
        "colab": {
          "base_uri": "https://localhost:8080/"
        },
        "id": "il0tY8d8frQh",
        "outputId": "7e959ad9-d2fa-447d-ed82-db292d6b69ef"
      },
      "execution_count": 4,
      "outputs": [
        {
          "output_type": "stream",
          "name": "stdout",
          "text": [
            "Requirement already satisfied: pysr==0.18.2 in /usr/local/lib/python3.10/dist-packages (0.18.2)\n",
            "Requirement already satisfied: pytorch_lightning in /usr/local/lib/python3.10/dist-packages (2.2.2)\n",
            "Requirement already satisfied: sympy<2.0.0,>=1.0.0 in /usr/local/lib/python3.10/dist-packages (from pysr==0.18.2) (1.12)\n",
            "Requirement already satisfied: pandas<3.0.0,>=0.21.0 in /usr/local/lib/python3.10/dist-packages (from pysr==0.18.2) (2.0.3)\n",
            "Requirement already satisfied: numpy<2.0.0,>=1.13.0 in /usr/local/lib/python3.10/dist-packages (from pysr==0.18.2) (1.25.2)\n",
            "Requirement already satisfied: scikit-learn<2.0.0,>=1.0.0 in /usr/local/lib/python3.10/dist-packages (from pysr==0.18.2) (1.2.2)\n",
            "Requirement already satisfied: juliacall==0.9.19 in /usr/local/lib/python3.10/dist-packages (from pysr==0.18.2) (0.9.19)\n",
            "Requirement already satisfied: click<9.0.0,>=7.0.0 in /usr/local/lib/python3.10/dist-packages (from pysr==0.18.2) (8.1.7)\n",
            "Requirement already satisfied: setuptools>=50.0.0 in /usr/local/lib/python3.10/dist-packages (from pysr==0.18.2) (67.7.2)\n",
            "Requirement already satisfied: juliapkg~=0.1.8 in /usr/local/lib/python3.10/dist-packages (from juliacall==0.9.19->pysr==0.18.2) (0.1.11)\n",
            "Requirement already satisfied: torch>=1.13.0 in /usr/local/lib/python3.10/dist-packages (from pytorch_lightning) (2.2.1+cu121)\n",
            "Requirement already satisfied: tqdm>=4.57.0 in /usr/local/lib/python3.10/dist-packages (from pytorch_lightning) (4.66.2)\n",
            "Requirement already satisfied: PyYAML>=5.4 in /usr/local/lib/python3.10/dist-packages (from pytorch_lightning) (6.0.1)\n",
            "Requirement already satisfied: fsspec[http]>=2022.5.0 in /usr/local/lib/python3.10/dist-packages (from pytorch_lightning) (2023.6.0)\n",
            "Requirement already satisfied: torchmetrics>=0.7.0 in /usr/local/lib/python3.10/dist-packages (from pytorch_lightning) (1.3.2)\n",
            "Requirement already satisfied: packaging>=20.0 in /usr/local/lib/python3.10/dist-packages (from pytorch_lightning) (24.0)\n",
            "Requirement already satisfied: typing-extensions>=4.4.0 in /usr/local/lib/python3.10/dist-packages (from pytorch_lightning) (4.11.0)\n",
            "Requirement already satisfied: lightning-utilities>=0.8.0 in /usr/local/lib/python3.10/dist-packages (from pytorch_lightning) (0.11.2)\n",
            "Requirement already satisfied: requests in /usr/local/lib/python3.10/dist-packages (from fsspec[http]>=2022.5.0->pytorch_lightning) (2.31.0)\n",
            "Requirement already satisfied: aiohttp!=4.0.0a0,!=4.0.0a1 in /usr/local/lib/python3.10/dist-packages (from fsspec[http]>=2022.5.0->pytorch_lightning) (3.9.5)\n",
            "Requirement already satisfied: python-dateutil>=2.8.2 in /usr/local/lib/python3.10/dist-packages (from pandas<3.0.0,>=0.21.0->pysr==0.18.2) (2.8.2)\n",
            "Requirement already satisfied: pytz>=2020.1 in /usr/local/lib/python3.10/dist-packages (from pandas<3.0.0,>=0.21.0->pysr==0.18.2) (2023.4)\n",
            "Requirement already satisfied: tzdata>=2022.1 in /usr/local/lib/python3.10/dist-packages (from pandas<3.0.0,>=0.21.0->pysr==0.18.2) (2024.1)\n",
            "Requirement already satisfied: scipy>=1.3.2 in /usr/local/lib/python3.10/dist-packages (from scikit-learn<2.0.0,>=1.0.0->pysr==0.18.2) (1.11.4)\n",
            "Requirement already satisfied: joblib>=1.1.1 in /usr/local/lib/python3.10/dist-packages (from scikit-learn<2.0.0,>=1.0.0->pysr==0.18.2) (1.4.0)\n",
            "Requirement already satisfied: threadpoolctl>=2.0.0 in /usr/local/lib/python3.10/dist-packages (from scikit-learn<2.0.0,>=1.0.0->pysr==0.18.2) (3.4.0)\n",
            "Requirement already satisfied: mpmath>=0.19 in /usr/local/lib/python3.10/dist-packages (from sympy<2.0.0,>=1.0.0->pysr==0.18.2) (1.3.0)\n",
            "Requirement already satisfied: filelock in /usr/local/lib/python3.10/dist-packages (from torch>=1.13.0->pytorch_lightning) (3.13.4)\n",
            "Requirement already satisfied: networkx in /usr/local/lib/python3.10/dist-packages (from torch>=1.13.0->pytorch_lightning) (3.3)\n",
            "Requirement already satisfied: jinja2 in /usr/local/lib/python3.10/dist-packages (from torch>=1.13.0->pytorch_lightning) (3.1.3)\n",
            "Requirement already satisfied: nvidia-cuda-nvrtc-cu12==12.1.105 in /usr/local/lib/python3.10/dist-packages (from torch>=1.13.0->pytorch_lightning) (12.1.105)\n",
            "Requirement already satisfied: nvidia-cuda-runtime-cu12==12.1.105 in /usr/local/lib/python3.10/dist-packages (from torch>=1.13.0->pytorch_lightning) (12.1.105)\n",
            "Requirement already satisfied: nvidia-cuda-cupti-cu12==12.1.105 in /usr/local/lib/python3.10/dist-packages (from torch>=1.13.0->pytorch_lightning) (12.1.105)\n",
            "Requirement already satisfied: nvidia-cudnn-cu12==8.9.2.26 in /usr/local/lib/python3.10/dist-packages (from torch>=1.13.0->pytorch_lightning) (8.9.2.26)\n",
            "Requirement already satisfied: nvidia-cublas-cu12==12.1.3.1 in /usr/local/lib/python3.10/dist-packages (from torch>=1.13.0->pytorch_lightning) (12.1.3.1)\n",
            "Requirement already satisfied: nvidia-cufft-cu12==11.0.2.54 in /usr/local/lib/python3.10/dist-packages (from torch>=1.13.0->pytorch_lightning) (11.0.2.54)\n",
            "Requirement already satisfied: nvidia-curand-cu12==10.3.2.106 in /usr/local/lib/python3.10/dist-packages (from torch>=1.13.0->pytorch_lightning) (10.3.2.106)\n",
            "Requirement already satisfied: nvidia-cusolver-cu12==11.4.5.107 in /usr/local/lib/python3.10/dist-packages (from torch>=1.13.0->pytorch_lightning) (11.4.5.107)\n",
            "Requirement already satisfied: nvidia-cusparse-cu12==12.1.0.106 in /usr/local/lib/python3.10/dist-packages (from torch>=1.13.0->pytorch_lightning) (12.1.0.106)\n",
            "Requirement already satisfied: nvidia-nccl-cu12==2.19.3 in /usr/local/lib/python3.10/dist-packages (from torch>=1.13.0->pytorch_lightning) (2.19.3)\n",
            "Requirement already satisfied: nvidia-nvtx-cu12==12.1.105 in /usr/local/lib/python3.10/dist-packages (from torch>=1.13.0->pytorch_lightning) (12.1.105)\n",
            "Requirement already satisfied: triton==2.2.0 in /usr/local/lib/python3.10/dist-packages (from torch>=1.13.0->pytorch_lightning) (2.2.0)\n",
            "Requirement already satisfied: nvidia-nvjitlink-cu12 in /usr/local/lib/python3.10/dist-packages (from nvidia-cusolver-cu12==11.4.5.107->torch>=1.13.0->pytorch_lightning) (12.4.127)\n",
            "Requirement already satisfied: aiosignal>=1.1.2 in /usr/local/lib/python3.10/dist-packages (from aiohttp!=4.0.0a0,!=4.0.0a1->fsspec[http]>=2022.5.0->pytorch_lightning) (1.3.1)\n",
            "Requirement already satisfied: attrs>=17.3.0 in /usr/local/lib/python3.10/dist-packages (from aiohttp!=4.0.0a0,!=4.0.0a1->fsspec[http]>=2022.5.0->pytorch_lightning) (23.2.0)\n",
            "Requirement already satisfied: frozenlist>=1.1.1 in /usr/local/lib/python3.10/dist-packages (from aiohttp!=4.0.0a0,!=4.0.0a1->fsspec[http]>=2022.5.0->pytorch_lightning) (1.4.1)\n",
            "Requirement already satisfied: multidict<7.0,>=4.5 in /usr/local/lib/python3.10/dist-packages (from aiohttp!=4.0.0a0,!=4.0.0a1->fsspec[http]>=2022.5.0->pytorch_lightning) (6.0.5)\n",
            "Requirement already satisfied: yarl<2.0,>=1.0 in /usr/local/lib/python3.10/dist-packages (from aiohttp!=4.0.0a0,!=4.0.0a1->fsspec[http]>=2022.5.0->pytorch_lightning) (1.9.4)\n",
            "Requirement already satisfied: async-timeout<5.0,>=4.0 in /usr/local/lib/python3.10/dist-packages (from aiohttp!=4.0.0a0,!=4.0.0a1->fsspec[http]>=2022.5.0->pytorch_lightning) (4.0.3)\n",
            "Requirement already satisfied: semantic-version~=2.9 in /usr/local/lib/python3.10/dist-packages (from juliapkg~=0.1.8->juliacall==0.9.19->pysr==0.18.2) (2.10.0)\n",
            "Requirement already satisfied: six>=1.5 in /usr/local/lib/python3.10/dist-packages (from python-dateutil>=2.8.2->pandas<3.0.0,>=0.21.0->pysr==0.18.2) (1.16.0)\n",
            "Requirement already satisfied: MarkupSafe>=2.0 in /usr/local/lib/python3.10/dist-packages (from jinja2->torch>=1.13.0->pytorch_lightning) (2.1.5)\n",
            "Requirement already satisfied: charset-normalizer<4,>=2 in /usr/local/lib/python3.10/dist-packages (from requests->fsspec[http]>=2022.5.0->pytorch_lightning) (3.3.2)\n",
            "Requirement already satisfied: idna<4,>=2.5 in /usr/local/lib/python3.10/dist-packages (from requests->fsspec[http]>=2022.5.0->pytorch_lightning) (3.7)\n",
            "Requirement already satisfied: urllib3<3,>=1.21.1 in /usr/local/lib/python3.10/dist-packages (from requests->fsspec[http]>=2022.5.0->pytorch_lightning) (2.0.7)\n",
            "Requirement already satisfied: certifi>=2017.4.17 in /usr/local/lib/python3.10/dist-packages (from requests->fsspec[http]>=2022.5.0->pytorch_lightning) (2024.2.2)\n"
          ]
        }
      ]
    },
    {
      "cell_type": "code",
      "source": [
        "import sympy\n",
        "import numpy as np\n",
        "from matplotlib import pyplot as plt\n",
        "from pysr import PySRRegressor\n",
        "import torch\n",
        "from torch import nn, optim\n",
        "from torch.nn import functional as F\n",
        "from torch.utils.data import DataLoader, TensorDataset\n",
        "import pytorch_lightning as pl\n",
        "from sklearn.model_selection import train_test_split"
      ],
      "metadata": {
        "id": "EfG6W6zn72Mm"
      },
      "execution_count": 5,
      "outputs": []
    },
    {
      "cell_type": "code",
      "source": [
        "###### np.random.seed(0)\n",
        "N = 100000\n",
        "Nt = 100\n",
        "X = 6 * np.random.rand(N, Nt, 5) - 3\n",
        "y_i = X[..., 0] ** 2 + 6 * np.cos(2 * X[..., 2])\n",
        "y = np.sum(y_i, axis=1) / y_i.shape[1]\n",
        "z = y**2\n",
        "X.shape, y.shape"
      ],
      "metadata": {
        "colab": {
          "base_uri": "https://localhost:8080/"
        },
        "id": "sEHgJUgo8LTy",
        "outputId": "9e4fe011-b5cb-404d-aa0e-0c43c5423556"
      },
      "execution_count": 6,
      "outputs": [
        {
          "output_type": "execute_result",
          "data": {
            "text/plain": [
              "((100000, 100, 5), (100000,))"
            ]
          },
          "metadata": {},
          "execution_count": 6
        }
      ]
    },
    {
      "cell_type": "code",
      "execution_count": 2,
      "metadata": {
        "colab": {
          "base_uri": "https://localhost:8080/",
          "height": 211
        },
        "id": "9JiqNiaDelai",
        "outputId": "b86a05de-1927-46a0-9c50-a8aab7e15241"
      },
      "outputs": [
        {
          "output_type": "error",
          "ename": "NameError",
          "evalue": "name 'torch' is not defined",
          "traceback": [
            "\u001b[0;31m---------------------------------------------------------------------------\u001b[0m",
            "\u001b[0;31mNameError\u001b[0m                                 Traceback (most recent call last)",
            "\u001b[0;32m<ipython-input-2-0b25b0a0cdf2>\u001b[0m in \u001b[0;36m<cell line: 15>\u001b[0;34m()\u001b[0m\n\u001b[1;32m     13\u001b[0m \u001b[0;34m\u001b[0m\u001b[0m\n\u001b[1;32m     14\u001b[0m \u001b[0mmax_epochs\u001b[0m \u001b[0;34m=\u001b[0m \u001b[0;36m2\u001b[0m\u001b[0;34m\u001b[0m\u001b[0;34m\u001b[0m\u001b[0m\n\u001b[0;32m---> 15\u001b[0;31m \u001b[0mXt\u001b[0m \u001b[0;34m=\u001b[0m \u001b[0mtorch\u001b[0m\u001b[0;34m.\u001b[0m\u001b[0mtensor\u001b[0m\u001b[0;34m(\u001b[0m\u001b[0mX\u001b[0m\u001b[0;34m)\u001b[0m\u001b[0;34m.\u001b[0m\u001b[0mfloat\u001b[0m\u001b[0;34m(\u001b[0m\u001b[0;34m)\u001b[0m\u001b[0;34m\u001b[0m\u001b[0;34m\u001b[0m\u001b[0m\n\u001b[0m\u001b[1;32m     16\u001b[0m \u001b[0mzt\u001b[0m \u001b[0;34m=\u001b[0m \u001b[0mtorch\u001b[0m\u001b[0;34m.\u001b[0m\u001b[0mtensor\u001b[0m\u001b[0;34m(\u001b[0m\u001b[0mz\u001b[0m\u001b[0;34m)\u001b[0m\u001b[0;34m.\u001b[0m\u001b[0mfloat\u001b[0m\u001b[0;34m(\u001b[0m\u001b[0;34m)\u001b[0m\u001b[0;34m\u001b[0m\u001b[0;34m\u001b[0m\u001b[0m\n\u001b[1;32m     17\u001b[0m \u001b[0mhidden\u001b[0m \u001b[0;34m=\u001b[0m \u001b[0;36m128\u001b[0m\u001b[0;34m\u001b[0m\u001b[0;34m\u001b[0m\u001b[0m\n",
            "\u001b[0;31mNameError\u001b[0m: name 'torch' is not defined"
          ]
        }
      ],
      "source": [
        "hidden = 100\n",
        "\n",
        "def mlp(size_in, size_out):\n",
        "    return nn.Sequential(\n",
        "        nn.Linear(size_in, hidden),\n",
        "        nn.ReLU(),\n",
        "        nn.Linear(hidden, hidden),\n",
        "        nn.ReLU(),\n",
        "        nn.Linear(hidden, hidden),\n",
        "        nn.ReLU(),\n",
        "        nn.Linear(hidden, size_out))\n",
        "\n",
        "\n",
        "max_epochs = 2\n",
        "Xt = torch.tensor(X).float()\n",
        "zt = torch.tensor(z).float()\n",
        "hidden = 128\n",
        "total_steps = 50000\n",
        "\n",
        "\n",
        "def mlp(size_in, size_out, act=nn.ReLU):\n",
        "    return nn.Sequential(\n",
        "        nn.Linear(size_in, hidden),\n",
        "        act(),\n",
        "        nn.Linear(hidden, hidden),\n",
        "        act(),\n",
        "        nn.Linear(hidden, hidden),\n",
        "        act(),\n",
        "        nn.Linear(hidden, size_out),\n",
        "    )\n",
        "\n",
        "\n",
        "class SumNet(pl.LightningModule):\n",
        "    def __init__(self):\n",
        "        super().__init__()\n",
        "\n",
        "    ########################################################\n",
        "    # The same inductive bias as above!\n",
        "        self.g = mlp(5, 1)\n",
        "        self.f = mlp(1, 1)\n",
        "\n",
        "    def forward(self, x):\n",
        "        y_i = self.g(x)[:, :, 0]\n",
        "        y = torch.sum(y_i, dim=1, keepdim=True) / y_i.shape[1]\n",
        "        z = self.f(y)\n",
        "        return z[:, 0]\n",
        "\n",
        "    ########################################################\n",
        "\n",
        "    # PyTorch Lightning bookkeeping:\n",
        "    def training_step(self, batch, batch_idx):\n",
        "        x, z = batch\n",
        "        predicted_z = self(x)\n",
        "        loss = F.mse_loss(predicted_z, z)\n",
        "        return loss\n",
        "\n",
        "    def validation_step(self, batch, batch_idx):\n",
        "        return self.training_step(batch, batch_idx)\n",
        "\n",
        "    def configure_optimizers(self):\n",
        "        self.trainer.reset_train_dataloader()\n",
        "\n",
        "        optimizer = torch.optim.Adam(self.parameters(), lr=self.max_lr)\n",
        "        scheduler = {\n",
        "            \"scheduler\": torch.optim.lr_scheduler.OneCycleLR(\n",
        "                optimizer,\n",
        "                max_lr=self.max_lr,\n",
        "                total_steps=self.total_steps,\n",
        "                final_div_factor=1e4,\n",
        "            ),\n",
        "            \"interval\": \"step\",\n",
        "        }\n",
        "        return [optimizer], [scheduler]\n",
        "\n",
        "class SumNet(pl.LightningModule):\n",
        "    def __init__(self):\n",
        "        super().__init__()\n",
        "        X_train, X_test, z_train, z_test = train_test_split(Xt, zt, random_state=0)\n",
        "        self.train_set = TensorDataset(X_train, z_train)\n",
        "        self.test_set = TensorDataset(X_test, z_test)\n",
        "\n",
        "        # The same inductive bias as above!\n",
        "        self.g = mlp(5, 1)\n",
        "        self.f = mlp(1, 1)\n",
        "\n",
        "    def forward(self, x):\n",
        "        y_i = self.g(x)[:, :, 0]\n",
        "        y = torch.sum(y_i, dim=1, keepdim=True) / y_i.shape[1]\n",
        "        z = self.f(y)\n",
        "        return z[:, 0]\n",
        "\n",
        "    ########################################################\n",
        "\n",
        "    # PyTorch Lightning bookkeeping:\n",
        "    def training_step(self, batch, batch_idx):\n",
        "        x, z = batch\n",
        "        predicted_z = self(x)\n",
        "        loss = F.mse_loss(predicted_z, z)\n",
        "        return loss\n",
        "\n",
        "    def validation_step(self, batch, batch_idx):\n",
        "        return self.training_step(batch, batch_idx)\n",
        "\n",
        "    def configure_optimizers(self):\n",
        "        optimizer = torch.optim.Adam(self.parameters(), lr=1e-2)\n",
        "        scheduler = {'scheduler': torch.optim.lr_scheduler.OneCycleLR(optimizer, max_lr=1e-2,\n",
        "                                                                      steps_per_epoch=len(self.train_dataloader()),\n",
        "                                                                      epochs=max_epochs,\n",
        "                                                                      final_div_factor=1e4),\n",
        "                     'interval': 'step'}\n",
        "        return [optimizer], [scheduler]\n",
        "\n",
        "    def train_dataloader(self):\n",
        "        return DataLoader(self.train_set, batch_size=128, num_workers=4)\n",
        "\n",
        "    def test_dataloader(self):\n",
        "        return DataLoader(self.test_set, batch_size=256, num_workers=4)\n",
        "\n",
        "\n",
        "pl.seed_everything(0)\n",
        "model = SumNet()\n",
        "trainer = pl.Trainer(max_epochs=max_epochs)\n",
        "trainer.fit(model)"
      ]
    },
    {
      "cell_type": "code",
      "source": [
        "trainer.save_checkpoint(\"example.ckpt\")\n",
        "\n",
        "from google.colab import files\n",
        "files.download('example.ckpt')"
      ],
      "metadata": {
        "colab": {
          "base_uri": "https://localhost:8080/",
          "height": 176
        },
        "id": "cSq_IxkkA4YB",
        "outputId": "f8ad18ae-5704-4f1c-b0a2-a021333cd364"
      },
      "execution_count": 1,
      "outputs": [
        {
          "output_type": "error",
          "ename": "NameError",
          "evalue": "name 'trainer' is not defined",
          "traceback": [
            "\u001b[0;31m---------------------------------------------------------------------------\u001b[0m",
            "\u001b[0;31mNameError\u001b[0m                                 Traceback (most recent call last)",
            "\u001b[0;32m<ipython-input-1-6d99121da782>\u001b[0m in \u001b[0;36m<cell line: 1>\u001b[0;34m()\u001b[0m\n\u001b[0;32m----> 1\u001b[0;31m \u001b[0mtrainer\u001b[0m\u001b[0;34m.\u001b[0m\u001b[0msave_checkpoint\u001b[0m\u001b[0;34m(\u001b[0m\u001b[0;34m\"example.ckpt\"\u001b[0m\u001b[0;34m)\u001b[0m\u001b[0;34m\u001b[0m\u001b[0;34m\u001b[0m\u001b[0m\n\u001b[0m\u001b[1;32m      2\u001b[0m \u001b[0;32mfrom\u001b[0m \u001b[0mgoogle\u001b[0m\u001b[0;34m.\u001b[0m\u001b[0mcolab\u001b[0m \u001b[0;32mimport\u001b[0m \u001b[0mfiles\u001b[0m\u001b[0;34m\u001b[0m\u001b[0;34m\u001b[0m\u001b[0m\n\u001b[1;32m      3\u001b[0m \u001b[0mfiles\u001b[0m\u001b[0;34m.\u001b[0m\u001b[0mdownload\u001b[0m\u001b[0;34m(\u001b[0m\u001b[0;34m'example.ckpt'\u001b[0m\u001b[0;34m)\u001b[0m\u001b[0;34m\u001b[0m\u001b[0;34m\u001b[0m\u001b[0m\n",
            "\u001b[0;31mNameError\u001b[0m: name 'trainer' is not defined"
          ]
        }
      ]
    },
    {
      "cell_type": "markdown",
      "source": [
        "Save and upload model\n",
        "\n",
        "model = MyLightningModule(hparams)\n",
        "\n",
        "trainer.fit(model)\n",
        "\n",
        "trainer.save_checkpoint(\"example.ckpt\")\n",
        "\n",
        "new_model = MyModel.load_from_checkpoint(checkpoint_path=\"example.ckpt\")"
      ],
      "metadata": {
        "id": "W18BEOFDAmZp"
      }
    },
    {
      "cell_type": "code",
      "source": [
        "np.random.seed(0)\n",
        "idx = np.random.randint(0, 10000, size=1000)\n",
        "\n",
        "X_for_pysr = Xt[idx]\n",
        "y_i_for_pysr = model.g(X_for_pysr)[:, :, 0]\n",
        "y_for_pysr = torch.sum(y_i_for_pysr, dim=1) / y_i_for_pysr.shape[1]\n",
        "z_for_pysr = zt[idx]  # Use true values.\n",
        "\n",
        "X_for_pysr.shape, y_i_for_pysr.shape"
      ],
      "metadata": {
        "colab": {
          "base_uri": "https://localhost:8080/"
        },
        "id": "kXB20nfR-McI",
        "outputId": "c8b3bb2d-3a54-48c6-a8b4-48f34fda9388"
      },
      "execution_count": 9,
      "outputs": [
        {
          "output_type": "execute_result",
          "data": {
            "text/plain": [
              "(torch.Size([1000, 100, 5]), torch.Size([1000, 100]))"
            ]
          },
          "metadata": {},
          "execution_count": 9
        }
      ]
    },
    {
      "cell_type": "code",
      "source": [
        "np.random.seed(1)\n",
        "tmpX = X_for_pysr.detach().numpy().reshape(-1, 5)\n",
        "tmpy = y_i_for_pysr.detach().numpy().reshape(-1)\n",
        "idx2 = np.random.randint(0, tmpy.shape[0], size=3000)\n",
        "\n",
        "model = PySRRegressor(\n",
        "    niterations=20,\n",
        "    binary_operators=[\"plus\", \"sub\", \"mult\"],\n",
        "    unary_operators=[\"cos\", \"square\", \"neg\"],\n",
        ")\n",
        "model.fit(X=tmpX[idx2], y=tmpy[idx2])"
      ],
      "metadata": {
        "colab": {
          "base_uri": "https://localhost:8080/"
        },
        "id": "ovhAN7WK-hXo",
        "outputId": "eeff7dae-6ea8-4161-a8b9-b4b07aa8b447"
      },
      "execution_count": null,
      "outputs": [
        {
          "output_type": "stream",
          "name": "stderr",
          "text": [
            "/usr/local/lib/python3.10/dist-packages/pysr/sr.py:1302: UserWarning: Note: it looks like you are running in Jupyter. The progress bar will be turned off.\n",
            "  warnings.warn(\n"
          ]
        },
        {
          "output_type": "stream",
          "name": "stdout",
          "text": [
            "Compiling Julia backend...\n"
          ]
        }
      ]
    },
    {
      "cell_type": "markdown",
      "source": [],
      "metadata": {
        "id": "3Uhw0NSoAkeJ"
      }
    },
    {
      "cell_type": "code",
      "source": [
        "model"
      ],
      "metadata": {
        "id": "ySRaeyQ0-qRk"
      },
      "execution_count": null,
      "outputs": []
    }
  ]
}